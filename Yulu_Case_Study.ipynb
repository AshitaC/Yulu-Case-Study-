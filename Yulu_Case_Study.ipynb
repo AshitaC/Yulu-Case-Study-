{
 "cells": [
  {
   "cell_type": "markdown",
   "metadata": {
    "id": "waBdh-pADPNN"
   },
   "source": [
    "# Business Case: Yulu - Hypothesis Testing\n",
    "\n",
    "Yulu has recently suffered considerable dips in its revenues. They have contracted a consulting company to understand the factors on which the demand for these shared electric cycles depends.\n",
    "\n",
    "Objective:\n",
    "\n",
    "- To find which variables are significant in predicting the demand for shared electric cycles in the Indian market?\n",
    "- To understand how well those variables describe the electric cycle demands\n",
    "\n",
    "Concept Used:\n",
    "\n",
    "- Bi-Variate Analysis\n",
    "- 2-sample t-test\n",
    "- ANNOVA\n",
    "- Chi-square"
   ]
  },
  {
   "cell_type": "markdown",
   "metadata": {
    "id": "l3uapgW9Dpft"
   },
   "source": [
    "## Importing data"
   ]
  },
  {
   "cell_type": "code",
   "execution_count": 1,
   "metadata": {
    "id": "K-mEmFXitXV5"
   },
   "outputs": [],
   "source": [
    "import pandas as pd\n",
    "import numpy as np\n",
    "import seaborn as sns\n",
    "import matplotlib.pyplot as plt\n",
    "from scipy.stats import norm\n",
    "from scipy.stats import ttest_ind # numeric vs categorical\n",
    "from scipy.stats import f_oneway # ANOVA numerical vs categorical\n",
    "from scipy.stats import kruskal # when ANOVA assumptions fail Numerical vs categorical\n",
    "from scipy.stats import chi2_contingency # categorical vs categorical\n",
    "from scipy.stats import shapiro,kstest # to check assumptions of normality of data\n",
    "from scipy.stats import levene # to check equal variance in each group\n",
    "from scipy.stats import ttest_rel # paired t test"
   ]
  },
  {
   "cell_type": "code",
   "execution_count": 3,
   "metadata": {
    "colab": {
     "base_uri": "https://localhost:8080/",
     "height": 206
    },
    "id": "HH4NPFLvtn-K",
    "outputId": "99b69304-c625-45ed-cebe-77fd5eef2165"
   },
   "outputs": [
    {
     "data": {
      "text/html": [
       "\n",
       "  <div id=\"df-c0b45678-f80f-417f-a494-9e3e12abe122\">\n",
       "    <div class=\"colab-df-container\">\n",
       "      <div>\n",
       "<style scoped>\n",
       "    .dataframe tbody tr th:only-of-type {\n",
       "        vertical-align: middle;\n",
       "    }\n",
       "\n",
       "    .dataframe tbody tr th {\n",
       "        vertical-align: top;\n",
       "    }\n",
       "\n",
       "    .dataframe thead th {\n",
       "        text-align: right;\n",
       "    }\n",
       "</style>\n",
       "<table border=\"1\" class=\"dataframe\">\n",
       "  <thead>\n",
       "    <tr style=\"text-align: right;\">\n",
       "      <th></th>\n",
       "      <th>datetime</th>\n",
       "      <th>season</th>\n",
       "      <th>holiday</th>\n",
       "      <th>workingday</th>\n",
       "      <th>weather</th>\n",
       "      <th>temp</th>\n",
       "      <th>atemp</th>\n",
       "      <th>humidity</th>\n",
       "      <th>windspeed</th>\n",
       "      <th>casual</th>\n",
       "      <th>registered</th>\n",
       "      <th>count</th>\n",
       "    </tr>\n",
       "  </thead>\n",
       "  <tbody>\n",
       "    <tr>\n",
       "      <th>0</th>\n",
       "      <td>2011-01-01 00:00:00</td>\n",
       "      <td>1</td>\n",
       "      <td>0</td>\n",
       "      <td>0</td>\n",
       "      <td>1</td>\n",
       "      <td>9.84</td>\n",
       "      <td>14.395</td>\n",
       "      <td>81</td>\n",
       "      <td>0.0</td>\n",
       "      <td>3</td>\n",
       "      <td>13</td>\n",
       "      <td>16</td>\n",
       "    </tr>\n",
       "    <tr>\n",
       "      <th>1</th>\n",
       "      <td>2011-01-01 01:00:00</td>\n",
       "      <td>1</td>\n",
       "      <td>0</td>\n",
       "      <td>0</td>\n",
       "      <td>1</td>\n",
       "      <td>9.02</td>\n",
       "      <td>13.635</td>\n",
       "      <td>80</td>\n",
       "      <td>0.0</td>\n",
       "      <td>8</td>\n",
       "      <td>32</td>\n",
       "      <td>40</td>\n",
       "    </tr>\n",
       "    <tr>\n",
       "      <th>2</th>\n",
       "      <td>2011-01-01 02:00:00</td>\n",
       "      <td>1</td>\n",
       "      <td>0</td>\n",
       "      <td>0</td>\n",
       "      <td>1</td>\n",
       "      <td>9.02</td>\n",
       "      <td>13.635</td>\n",
       "      <td>80</td>\n",
       "      <td>0.0</td>\n",
       "      <td>5</td>\n",
       "      <td>27</td>\n",
       "      <td>32</td>\n",
       "    </tr>\n",
       "    <tr>\n",
       "      <th>3</th>\n",
       "      <td>2011-01-01 03:00:00</td>\n",
       "      <td>1</td>\n",
       "      <td>0</td>\n",
       "      <td>0</td>\n",
       "      <td>1</td>\n",
       "      <td>9.84</td>\n",
       "      <td>14.395</td>\n",
       "      <td>75</td>\n",
       "      <td>0.0</td>\n",
       "      <td>3</td>\n",
       "      <td>10</td>\n",
       "      <td>13</td>\n",
       "    </tr>\n",
       "    <tr>\n",
       "      <th>4</th>\n",
       "      <td>2011-01-01 04:00:00</td>\n",
       "      <td>1</td>\n",
       "      <td>0</td>\n",
       "      <td>0</td>\n",
       "      <td>1</td>\n",
       "      <td>9.84</td>\n",
       "      <td>14.395</td>\n",
       "      <td>75</td>\n",
       "      <td>0.0</td>\n",
       "      <td>0</td>\n",
       "      <td>1</td>\n",
       "      <td>1</td>\n",
       "    </tr>\n",
       "  </tbody>\n",
       "</table>\n",
       "</div>\n",
       "      <button class=\"colab-df-convert\" onclick=\"convertToInteractive('df-c0b45678-f80f-417f-a494-9e3e12abe122')\"\n",
       "              title=\"Convert this dataframe to an interactive table.\"\n",
       "              style=\"display:none;\">\n",
       "        \n",
       "  <svg xmlns=\"http://www.w3.org/2000/svg\" height=\"24px\"viewBox=\"0 0 24 24\"\n",
       "       width=\"24px\">\n",
       "    <path d=\"M0 0h24v24H0V0z\" fill=\"none\"/>\n",
       "    <path d=\"M18.56 5.44l.94 2.06.94-2.06 2.06-.94-2.06-.94-.94-2.06-.94 2.06-2.06.94zm-11 1L8.5 8.5l.94-2.06 2.06-.94-2.06-.94L8.5 2.5l-.94 2.06-2.06.94zm10 10l.94 2.06.94-2.06 2.06-.94-2.06-.94-.94-2.06-.94 2.06-2.06.94z\"/><path d=\"M17.41 7.96l-1.37-1.37c-.4-.4-.92-.59-1.43-.59-.52 0-1.04.2-1.43.59L10.3 9.45l-7.72 7.72c-.78.78-.78 2.05 0 2.83L4 21.41c.39.39.9.59 1.41.59.51 0 1.02-.2 1.41-.59l7.78-7.78 2.81-2.81c.8-.78.8-2.07 0-2.86zM5.41 20L4 18.59l7.72-7.72 1.47 1.35L5.41 20z\"/>\n",
       "  </svg>\n",
       "      </button>\n",
       "      \n",
       "  <style>\n",
       "    .colab-df-container {\n",
       "      display:flex;\n",
       "      flex-wrap:wrap;\n",
       "      gap: 12px;\n",
       "    }\n",
       "\n",
       "    .colab-df-convert {\n",
       "      background-color: #E8F0FE;\n",
       "      border: none;\n",
       "      border-radius: 50%;\n",
       "      cursor: pointer;\n",
       "      display: none;\n",
       "      fill: #1967D2;\n",
       "      height: 32px;\n",
       "      padding: 0 0 0 0;\n",
       "      width: 32px;\n",
       "    }\n",
       "\n",
       "    .colab-df-convert:hover {\n",
       "      background-color: #E2EBFA;\n",
       "      box-shadow: 0px 1px 2px rgba(60, 64, 67, 0.3), 0px 1px 3px 1px rgba(60, 64, 67, 0.15);\n",
       "      fill: #174EA6;\n",
       "    }\n",
       "\n",
       "    [theme=dark] .colab-df-convert {\n",
       "      background-color: #3B4455;\n",
       "      fill: #D2E3FC;\n",
       "    }\n",
       "\n",
       "    [theme=dark] .colab-df-convert:hover {\n",
       "      background-color: #434B5C;\n",
       "      box-shadow: 0px 1px 3px 1px rgba(0, 0, 0, 0.15);\n",
       "      filter: drop-shadow(0px 1px 2px rgba(0, 0, 0, 0.3));\n",
       "      fill: #FFFFFF;\n",
       "    }\n",
       "  </style>\n",
       "\n",
       "      <script>\n",
       "        const buttonEl =\n",
       "          document.querySelector('#df-c0b45678-f80f-417f-a494-9e3e12abe122 button.colab-df-convert');\n",
       "        buttonEl.style.display =\n",
       "          google.colab.kernel.accessAllowed ? 'block' : 'none';\n",
       "\n",
       "        async function convertToInteractive(key) {\n",
       "          const element = document.querySelector('#df-c0b45678-f80f-417f-a494-9e3e12abe122');\n",
       "          const dataTable =\n",
       "            await google.colab.kernel.invokeFunction('convertToInteractive',\n",
       "                                                     [key], {});\n",
       "          if (!dataTable) return;\n",
       "\n",
       "          const docLinkHtml = 'Like what you see? Visit the ' +\n",
       "            '<a target=\"_blank\" href=https://colab.research.google.com/notebooks/data_table.ipynb>data table notebook</a>'\n",
       "            + ' to learn more about interactive tables.';\n",
       "          element.innerHTML = '';\n",
       "          dataTable['output_type'] = 'display_data';\n",
       "          await google.colab.output.renderOutput(dataTable, element);\n",
       "          const docLink = document.createElement('div');\n",
       "          docLink.innerHTML = docLinkHtml;\n",
       "          element.appendChild(docLink);\n",
       "        }\n",
       "      </script>\n",
       "    </div>\n",
       "  </div>\n",
       "  "
      ],
      "text/plain": [
       "              datetime  season  holiday  workingday  weather  temp   atemp  \\\n",
       "0  2011-01-01 00:00:00       1        0           0        1  9.84  14.395   \n",
       "1  2011-01-01 01:00:00       1        0           0        1  9.02  13.635   \n",
       "2  2011-01-01 02:00:00       1        0           0        1  9.02  13.635   \n",
       "3  2011-01-01 03:00:00       1        0           0        1  9.84  14.395   \n",
       "4  2011-01-01 04:00:00       1        0           0        1  9.84  14.395   \n",
       "\n",
       "   humidity  windspeed  casual  registered  count  \n",
       "0        81        0.0       3          13     16  \n",
       "1        80        0.0       8          32     40  \n",
       "2        80        0.0       5          27     32  \n",
       "3        75        0.0       3          10     13  \n",
       "4        75        0.0       0           1      1  "
      ]
     },
     "execution_count": 3,
     "metadata": {},
     "output_type": "execute_result"
    }
   ],
   "source": [
    "df=pd.read_csv('yulu.csv')\n",
    "df.head()"
   ]
  },
  {
   "cell_type": "code",
   "execution_count": 4,
   "metadata": {
    "colab": {
     "base_uri": "https://localhost:8080/"
    },
    "id": "tNjnoBOetrmm",
    "outputId": "c8dd2c3d-bae9-498e-9a7b-695585bcf649"
   },
   "outputs": [
    {
     "name": "stdout",
     "output_type": "stream",
     "text": [
      "<class 'pandas.core.frame.DataFrame'>\n",
      "RangeIndex: 10886 entries, 0 to 10885\n",
      "Data columns (total 12 columns):\n",
      " #   Column      Non-Null Count  Dtype  \n",
      "---  ------      --------------  -----  \n",
      " 0   datetime    10886 non-null  object \n",
      " 1   season      10886 non-null  int64  \n",
      " 2   holiday     10886 non-null  int64  \n",
      " 3   workingday  10886 non-null  int64  \n",
      " 4   weather     10886 non-null  int64  \n",
      " 5   temp        10886 non-null  float64\n",
      " 6   atemp       10886 non-null  float64\n",
      " 7   humidity    10886 non-null  int64  \n",
      " 8   windspeed   10886 non-null  float64\n",
      " 9   casual      10886 non-null  int64  \n",
      " 10  registered  10886 non-null  int64  \n",
      " 11  count       10886 non-null  int64  \n",
      "dtypes: float64(3), int64(8), object(1)\n",
      "memory usage: 1020.7+ KB\n"
     ]
    }
   ],
   "source": [
    "df.info()"
   ]
  },
  {
   "cell_type": "code",
   "execution_count": 5,
   "metadata": {
    "colab": {
     "base_uri": "https://localhost:8080/",
     "height": 300
    },
    "id": "nj2YyrtctyRI",
    "outputId": "418b2bf9-5142-4c86-b3f7-16bb2f566b09"
   },
   "outputs": [
    {
     "data": {
      "text/html": [
       "\n",
       "  <div id=\"df-d5166418-f336-4270-a653-a21c5916b15f\">\n",
       "    <div class=\"colab-df-container\">\n",
       "      <div>\n",
       "<style scoped>\n",
       "    .dataframe tbody tr th:only-of-type {\n",
       "        vertical-align: middle;\n",
       "    }\n",
       "\n",
       "    .dataframe tbody tr th {\n",
       "        vertical-align: top;\n",
       "    }\n",
       "\n",
       "    .dataframe thead th {\n",
       "        text-align: right;\n",
       "    }\n",
       "</style>\n",
       "<table border=\"1\" class=\"dataframe\">\n",
       "  <thead>\n",
       "    <tr style=\"text-align: right;\">\n",
       "      <th></th>\n",
       "      <th>season</th>\n",
       "      <th>holiday</th>\n",
       "      <th>workingday</th>\n",
       "      <th>weather</th>\n",
       "      <th>temp</th>\n",
       "      <th>atemp</th>\n",
       "      <th>humidity</th>\n",
       "      <th>windspeed</th>\n",
       "      <th>casual</th>\n",
       "      <th>registered</th>\n",
       "      <th>count</th>\n",
       "    </tr>\n",
       "  </thead>\n",
       "  <tbody>\n",
       "    <tr>\n",
       "      <th>count</th>\n",
       "      <td>10886.000000</td>\n",
       "      <td>10886.000000</td>\n",
       "      <td>10886.000000</td>\n",
       "      <td>10886.000000</td>\n",
       "      <td>10886.00000</td>\n",
       "      <td>10886.000000</td>\n",
       "      <td>10886.000000</td>\n",
       "      <td>10886.000000</td>\n",
       "      <td>10886.000000</td>\n",
       "      <td>10886.000000</td>\n",
       "      <td>10886.000000</td>\n",
       "    </tr>\n",
       "    <tr>\n",
       "      <th>mean</th>\n",
       "      <td>2.506614</td>\n",
       "      <td>0.028569</td>\n",
       "      <td>0.680875</td>\n",
       "      <td>1.418427</td>\n",
       "      <td>20.23086</td>\n",
       "      <td>23.655084</td>\n",
       "      <td>61.886460</td>\n",
       "      <td>12.799395</td>\n",
       "      <td>36.021955</td>\n",
       "      <td>155.552177</td>\n",
       "      <td>191.574132</td>\n",
       "    </tr>\n",
       "    <tr>\n",
       "      <th>std</th>\n",
       "      <td>1.116174</td>\n",
       "      <td>0.166599</td>\n",
       "      <td>0.466159</td>\n",
       "      <td>0.633839</td>\n",
       "      <td>7.79159</td>\n",
       "      <td>8.474601</td>\n",
       "      <td>19.245033</td>\n",
       "      <td>8.164537</td>\n",
       "      <td>49.960477</td>\n",
       "      <td>151.039033</td>\n",
       "      <td>181.144454</td>\n",
       "    </tr>\n",
       "    <tr>\n",
       "      <th>min</th>\n",
       "      <td>1.000000</td>\n",
       "      <td>0.000000</td>\n",
       "      <td>0.000000</td>\n",
       "      <td>1.000000</td>\n",
       "      <td>0.82000</td>\n",
       "      <td>0.760000</td>\n",
       "      <td>0.000000</td>\n",
       "      <td>0.000000</td>\n",
       "      <td>0.000000</td>\n",
       "      <td>0.000000</td>\n",
       "      <td>1.000000</td>\n",
       "    </tr>\n",
       "    <tr>\n",
       "      <th>25%</th>\n",
       "      <td>2.000000</td>\n",
       "      <td>0.000000</td>\n",
       "      <td>0.000000</td>\n",
       "      <td>1.000000</td>\n",
       "      <td>13.94000</td>\n",
       "      <td>16.665000</td>\n",
       "      <td>47.000000</td>\n",
       "      <td>7.001500</td>\n",
       "      <td>4.000000</td>\n",
       "      <td>36.000000</td>\n",
       "      <td>42.000000</td>\n",
       "    </tr>\n",
       "    <tr>\n",
       "      <th>50%</th>\n",
       "      <td>3.000000</td>\n",
       "      <td>0.000000</td>\n",
       "      <td>1.000000</td>\n",
       "      <td>1.000000</td>\n",
       "      <td>20.50000</td>\n",
       "      <td>24.240000</td>\n",
       "      <td>62.000000</td>\n",
       "      <td>12.998000</td>\n",
       "      <td>17.000000</td>\n",
       "      <td>118.000000</td>\n",
       "      <td>145.000000</td>\n",
       "    </tr>\n",
       "    <tr>\n",
       "      <th>75%</th>\n",
       "      <td>4.000000</td>\n",
       "      <td>0.000000</td>\n",
       "      <td>1.000000</td>\n",
       "      <td>2.000000</td>\n",
       "      <td>26.24000</td>\n",
       "      <td>31.060000</td>\n",
       "      <td>77.000000</td>\n",
       "      <td>16.997900</td>\n",
       "      <td>49.000000</td>\n",
       "      <td>222.000000</td>\n",
       "      <td>284.000000</td>\n",
       "    </tr>\n",
       "    <tr>\n",
       "      <th>max</th>\n",
       "      <td>4.000000</td>\n",
       "      <td>1.000000</td>\n",
       "      <td>1.000000</td>\n",
       "      <td>4.000000</td>\n",
       "      <td>41.00000</td>\n",
       "      <td>45.455000</td>\n",
       "      <td>100.000000</td>\n",
       "      <td>56.996900</td>\n",
       "      <td>367.000000</td>\n",
       "      <td>886.000000</td>\n",
       "      <td>977.000000</td>\n",
       "    </tr>\n",
       "  </tbody>\n",
       "</table>\n",
       "</div>\n",
       "      <button class=\"colab-df-convert\" onclick=\"convertToInteractive('df-d5166418-f336-4270-a653-a21c5916b15f')\"\n",
       "              title=\"Convert this dataframe to an interactive table.\"\n",
       "              style=\"display:none;\">\n",
       "        \n",
       "  <svg xmlns=\"http://www.w3.org/2000/svg\" height=\"24px\"viewBox=\"0 0 24 24\"\n",
       "       width=\"24px\">\n",
       "    <path d=\"M0 0h24v24H0V0z\" fill=\"none\"/>\n",
       "    <path d=\"M18.56 5.44l.94 2.06.94-2.06 2.06-.94-2.06-.94-.94-2.06-.94 2.06-2.06.94zm-11 1L8.5 8.5l.94-2.06 2.06-.94-2.06-.94L8.5 2.5l-.94 2.06-2.06.94zm10 10l.94 2.06.94-2.06 2.06-.94-2.06-.94-.94-2.06-.94 2.06-2.06.94z\"/><path d=\"M17.41 7.96l-1.37-1.37c-.4-.4-.92-.59-1.43-.59-.52 0-1.04.2-1.43.59L10.3 9.45l-7.72 7.72c-.78.78-.78 2.05 0 2.83L4 21.41c.39.39.9.59 1.41.59.51 0 1.02-.2 1.41-.59l7.78-7.78 2.81-2.81c.8-.78.8-2.07 0-2.86zM5.41 20L4 18.59l7.72-7.72 1.47 1.35L5.41 20z\"/>\n",
       "  </svg>\n",
       "      </button>\n",
       "      \n",
       "  <style>\n",
       "    .colab-df-container {\n",
       "      display:flex;\n",
       "      flex-wrap:wrap;\n",
       "      gap: 12px;\n",
       "    }\n",
       "\n",
       "    .colab-df-convert {\n",
       "      background-color: #E8F0FE;\n",
       "      border: none;\n",
       "      border-radius: 50%;\n",
       "      cursor: pointer;\n",
       "      display: none;\n",
       "      fill: #1967D2;\n",
       "      height: 32px;\n",
       "      padding: 0 0 0 0;\n",
       "      width: 32px;\n",
       "    }\n",
       "\n",
       "    .colab-df-convert:hover {\n",
       "      background-color: #E2EBFA;\n",
       "      box-shadow: 0px 1px 2px rgba(60, 64, 67, 0.3), 0px 1px 3px 1px rgba(60, 64, 67, 0.15);\n",
       "      fill: #174EA6;\n",
       "    }\n",
       "\n",
       "    [theme=dark] .colab-df-convert {\n",
       "      background-color: #3B4455;\n",
       "      fill: #D2E3FC;\n",
       "    }\n",
       "\n",
       "    [theme=dark] .colab-df-convert:hover {\n",
       "      background-color: #434B5C;\n",
       "      box-shadow: 0px 1px 3px 1px rgba(0, 0, 0, 0.15);\n",
       "      filter: drop-shadow(0px 1px 2px rgba(0, 0, 0, 0.3));\n",
       "      fill: #FFFFFF;\n",
       "    }\n",
       "  </style>\n",
       "\n",
       "      <script>\n",
       "        const buttonEl =\n",
       "          document.querySelector('#df-d5166418-f336-4270-a653-a21c5916b15f button.colab-df-convert');\n",
       "        buttonEl.style.display =\n",
       "          google.colab.kernel.accessAllowed ? 'block' : 'none';\n",
       "\n",
       "        async function convertToInteractive(key) {\n",
       "          const element = document.querySelector('#df-d5166418-f336-4270-a653-a21c5916b15f');\n",
       "          const dataTable =\n",
       "            await google.colab.kernel.invokeFunction('convertToInteractive',\n",
       "                                                     [key], {});\n",
       "          if (!dataTable) return;\n",
       "\n",
       "          const docLinkHtml = 'Like what you see? Visit the ' +\n",
       "            '<a target=\"_blank\" href=https://colab.research.google.com/notebooks/data_table.ipynb>data table notebook</a>'\n",
       "            + ' to learn more about interactive tables.';\n",
       "          element.innerHTML = '';\n",
       "          dataTable['output_type'] = 'display_data';\n",
       "          await google.colab.output.renderOutput(dataTable, element);\n",
       "          const docLink = document.createElement('div');\n",
       "          docLink.innerHTML = docLinkHtml;\n",
       "          element.appendChild(docLink);\n",
       "        }\n",
       "      </script>\n",
       "    </div>\n",
       "  </div>\n",
       "  "
      ],
      "text/plain": [
       "             season       holiday    workingday       weather         temp  \\\n",
       "count  10886.000000  10886.000000  10886.000000  10886.000000  10886.00000   \n",
       "mean       2.506614      0.028569      0.680875      1.418427     20.23086   \n",
       "std        1.116174      0.166599      0.466159      0.633839      7.79159   \n",
       "min        1.000000      0.000000      0.000000      1.000000      0.82000   \n",
       "25%        2.000000      0.000000      0.000000      1.000000     13.94000   \n",
       "50%        3.000000      0.000000      1.000000      1.000000     20.50000   \n",
       "75%        4.000000      0.000000      1.000000      2.000000     26.24000   \n",
       "max        4.000000      1.000000      1.000000      4.000000     41.00000   \n",
       "\n",
       "              atemp      humidity     windspeed        casual    registered  \\\n",
       "count  10886.000000  10886.000000  10886.000000  10886.000000  10886.000000   \n",
       "mean      23.655084     61.886460     12.799395     36.021955    155.552177   \n",
       "std        8.474601     19.245033      8.164537     49.960477    151.039033   \n",
       "min        0.760000      0.000000      0.000000      0.000000      0.000000   \n",
       "25%       16.665000     47.000000      7.001500      4.000000     36.000000   \n",
       "50%       24.240000     62.000000     12.998000     17.000000    118.000000   \n",
       "75%       31.060000     77.000000     16.997900     49.000000    222.000000   \n",
       "max       45.455000    100.000000     56.996900    367.000000    886.000000   \n",
       "\n",
       "              count  \n",
       "count  10886.000000  \n",
       "mean     191.574132  \n",
       "std      181.144454  \n",
       "min        1.000000  \n",
       "25%       42.000000  \n",
       "50%      145.000000  \n",
       "75%      284.000000  \n",
       "max      977.000000  "
      ]
     },
     "execution_count": 5,
     "metadata": {},
     "output_type": "execute_result"
    }
   ],
   "source": [
    "df.describe()"
   ]
  },
  {
   "cell_type": "code",
   "execution_count": 6,
   "metadata": {
    "colab": {
     "base_uri": "https://localhost:8080/"
    },
    "id": "py1mUL_Nt5PP",
    "outputId": "69aa7dd1-1e20-448d-e236-15e331097aca"
   },
   "outputs": [
    {
     "data": {
      "text/plain": [
       "(10886, 12)"
      ]
     },
     "execution_count": 6,
     "metadata": {},
     "output_type": "execute_result"
    }
   ],
   "source": [
    "df.shape"
   ]
  },
  {
   "cell_type": "code",
   "execution_count": 7,
   "metadata": {
    "colab": {
     "base_uri": "https://localhost:8080/"
    },
    "id": "rm0ZNLV8EQGz",
    "outputId": "bbb18739-c7c9-4c2c-d66c-555c43a83bf3"
   },
   "outputs": [
    {
     "data": {
      "text/plain": [
       "datetime      0\n",
       "season        0\n",
       "holiday       0\n",
       "workingday    0\n",
       "weather       0\n",
       "temp          0\n",
       "atemp         0\n",
       "humidity      0\n",
       "windspeed     0\n",
       "casual        0\n",
       "registered    0\n",
       "count         0\n",
       "dtype: int64"
      ]
     },
     "execution_count": 7,
     "metadata": {},
     "output_type": "execute_result"
    }
   ],
   "source": [
    "df.isna().sum()\n",
    "# No missing value"
   ]
  },
  {
   "cell_type": "markdown",
   "metadata": {
    "id": "wCoDRR6hupdP"
   },
   "source": [
    "# Exploratory Data Analysis"
   ]
  },
  {
   "cell_type": "markdown",
   "metadata": {
    "id": "ZWhz6CovGGwS"
   },
   "source": [
    "### Univariate -"
   ]
  },
  {
   "cell_type": "code",
   "execution_count": 8,
   "metadata": {
    "id": "OHFbyEQSE9iM"
   },
   "outputs": [],
   "source": [
    "# Drop unnecessary columns\n",
    "df.drop('datetime',axis=1, inplace=True )"
   ]
  },
  {
   "cell_type": "code",
   "execution_count": 9,
   "metadata": {
    "id": "xiixv6MFEIsW"
   },
   "outputs": [],
   "source": [
    "# defining categorical columns\n",
    "columns=['season','holiday','workingday','weather']\n",
    "df[columns] = df[columns].astype('object')"
   ]
  },
  {
   "cell_type": "code",
   "execution_count": 10,
   "metadata": {
    "colab": {
     "base_uri": "https://localhost:8080/",
     "height": 334
    },
    "id": "xJCDhGz6Fb99",
    "outputId": "89616e41-01e1-4d14-ffe0-de15ead747b5"
   },
   "outputs": [
    {
     "data": {
      "image/png": "[encoded data removed]",
      "text/plain": [
       "<Figure size 1584x360 with 4 Axes>"
      ]
     },
     "metadata": {
      "needs_background": "light"
     },
     "output_type": "display_data"
    }
   ],
   "source": [
    "plt.figure(figsize = [22,5])\n",
    "for i in range (len(columns)):\n",
    "  plt.subplot(1, 4, i+1)\n",
    "  sns.countplot(data=df, x=columns[i])"
   ]
  },
  {
   "cell_type": "markdown",
   "metadata": {
    "id": "3hYEFu7pHIKT"
   },
   "source": [
    "- Equal number of days in each season.\n",
    "- More working days than holidays.\n",
    "- Weather is mostly Clear, Few clouds, partly cloudy."
   ]
  },
  {
   "cell_type": "code",
   "execution_count": 11,
   "metadata": {
    "colab": {
     "base_uri": "https://localhost:8080/",
     "height": 334
    },
    "id": "ri07vtdAF1YB",
    "outputId": "5bfabfde-3fdd-4d3b-de8e-29d987be4392"
   },
   "outputs": [
    {
     "data": {
      "image/png": "[encoded data removed]",
      "text/plain": [
       "<Figure size 2160x360 with 5 Axes>"
      ]
     },
     "metadata": {
      "needs_background": "light"
     },
     "output_type": "display_data"
    }
   ],
   "source": [
    "plt.figure(figsize = [30,5])\n",
    "num_cols = ['temp', 'humidity', 'windspeed','casual','registered']\n",
    "for i in range (len(num_cols)):\n",
    "  plt.subplot(1, 5, i+1)\n",
    "  sns.histplot(data=df, x=num_cols[i], kde=True)"
   ]
  },
  {
   "cell_type": "markdown",
   "metadata": {
    "id": "qyA56kfYI8pT"
   },
   "source": [
    "- People prefer to rent cycle when temperature range 13-27 Celsius.\n",
    "- For humdity less than 20, count of rent is very very low.\n",
    "-  Rent count is more when windspeed is less than 20.\n",
    "- Casual customers rent very less."
   ]
  },
  {
   "cell_type": "code",
   "execution_count": 12,
   "metadata": {
    "colab": {
     "base_uri": "https://localhost:8080/",
     "height": 334
    },
    "id": "eYzOmC99GAsf",
    "outputId": "dca674a2-fbd3-4eee-a470-11a36996a100"
   },
   "outputs": [
    {
     "data": {
      "image/png": "[encoded data removed]",
      "text/plain": [
       "<Figure size 1584x360 with 4 Axes>"
      ]
     },
     "metadata": {
      "needs_background": "light"
     },
     "output_type": "display_data"
    }
   ],
   "source": [
    "plt.figure(figsize = [22,5])\n",
    "num_cols = ['temp', 'atemp', 'humidity', 'windspeed']\n",
    "for i in range (len(num_cols)):\n",
    "  plt.subplot(1, 4, i+1)\n",
    "  sns.boxplot(data=df, x=num_cols[i])"
   ]
  },
  {
   "cell_type": "markdown",
   "metadata": {
    "id": "iZXMRsH7GFe9"
   },
   "source": [
    "### Bivariate-"
   ]
  },
  {
   "cell_type": "code",
   "execution_count": 13,
   "metadata": {
    "colab": {
     "base_uri": "https://localhost:8080/",
     "height": 334
    },
    "id": "K4L2031_GOFB",
    "outputId": "05262aaa-a829-4ea7-d157-7cc209ef30a9"
   },
   "outputs": [
    {
     "data": {
      "image/png": "[encoded data removed]",
      "text/plain": [
       "<Figure size 1584x360 with 4 Axes>"
      ]
     },
     "metadata": {
      "needs_background": "light"
     },
     "output_type": "display_data"
    }
   ],
   "source": [
    "plt.figure(figsize = [22,5])\n",
    "cat_cols = ['holiday','workingday','weather','season']\n",
    "for i in range (len(cat_cols)):\n",
    "  plt.subplot(1, 4, i+1)\n",
    "  sns.countplot(data=df, x=cat_cols[i],hue=cat_cols[2])"
   ]
  },
  {
   "cell_type": "markdown",
   "metadata": {
    "id": "JVFFuBzuIyJC"
   },
   "source": [
    "- Weather 1 & 2 (with little or no rain) are favourable for cycle rent."
   ]
  },
  {
   "cell_type": "code",
   "execution_count": 14,
   "metadata": {
    "colab": {
     "base_uri": "https://localhost:8080/",
     "height": 334
    },
    "id": "He_AMkiAGVvl",
    "outputId": "3736dc70-4c0f-4b51-ac3a-62e6384001d6"
   },
   "outputs": [
    {
     "data": {
      "image/png": "[encoded data removed]",
      "text/plain": [
       "<Figure size 1584x360 with 4 Axes>"
      ]
     },
     "metadata": {
      "needs_background": "light"
     },
     "output_type": "display_data"
    }
   ],
   "source": [
    "plt.figure(figsize = [22,5])\n",
    "cat_cols = ['holiday','workingday','weather','season']\n",
    "for i in range (len(cat_cols)):\n",
    "  plt.subplot(1, 4, i+1)\n",
    "  sns.countplot(data=df, x=cat_cols[i],hue=cat_cols[1])"
   ]
  },
  {
   "cell_type": "markdown",
   "metadata": {
    "id": "f-xYL3uOKPWJ"
   },
   "source": [
    "Working day having more demand. As employees must be using it to travel to their offices."
   ]
  },
  {
   "cell_type": "code",
   "execution_count": 15,
   "metadata": {
    "colab": {
     "base_uri": "https://localhost:8080/"
    },
    "id": "BJmfWJuqLX9h",
    "outputId": "32c50e2a-edc7-4729-dba0-06a802e6dec0"
   },
   "outputs": [
    {
     "data": {
      "text/plain": [
       "temp          0.394454\n",
       "atemp         0.389784\n",
       "humidity     -0.317371\n",
       "windspeed     0.101369\n",
       "casual        0.690414\n",
       "registered    0.970948\n",
       "count         1.000000\n",
       "Name: count, dtype: float64"
      ]
     },
     "execution_count": 15,
     "metadata": {},
     "output_type": "execute_result"
    }
   ],
   "source": [
    "df.corr()['count']"
   ]
  },
  {
   "cell_type": "markdown",
   "metadata": {
    "id": "F5DSRy7qLpIM"
   },
   "source": [
    "- Positive correlation with temperature.\n",
    "\n",
    "- Negative correaltion with humidity."
   ]
  },
  {
   "cell_type": "markdown",
   "metadata": {
    "id": "ZXNNpdCcut5W"
   },
   "source": [
    "# Hypothesis Testing (30 Points):\n",
    "> 2- Sample T-Test to check if Working Day has an effect on the number of electric cycles rented \n",
    "\n",
    "> ANNOVA to check if No. of cycles rented is similar or different in different 1. weather 2. season \n",
    "\n",
    "> Chi-square test to check if Weather is dependent on the season"
   ]
  },
  {
   "cell_type": "markdown",
   "metadata": {
    "id": "E3NeI5Qv-feb"
   },
   "source": [
    "## 2- Sample T-Test to check if Working Day has an effect on the number of electric cycles rented\n",
    "\n",
    "Ho: Working day has no effect on electric cycles rented\n",
    "\n",
    "Ha: Working day impacts electric cycles rented\n",
    "\n",
    "Alpha: 0.05\n",
    "\n",
    "We use two sample t-test as only two categories involved"
   ]
  },
  {
   "cell_type": "code",
   "execution_count": 16,
   "metadata": {
    "colab": {
     "base_uri": "https://localhost:8080/"
    },
    "id": "xYJx92RtuBn8",
    "outputId": "7fff3f8e-ba16-458d-e436-ab55b83bc1b7"
   },
   "outputs": [
    {
     "data": {
      "text/plain": [
       "array([0, 1], dtype=object)"
      ]
     },
     "execution_count": 16,
     "metadata": {},
     "output_type": "execute_result"
    }
   ],
   "source": [
    "df['workingday'].unique()"
   ]
  },
  {
   "cell_type": "code",
   "execution_count": 17,
   "metadata": {
    "colab": {
     "base_uri": "https://localhost:8080/"
    },
    "id": "l3mM9_oM_cRD",
    "outputId": "3bfd7038-0a84-487f-a02b-1ae7493ef534"
   },
   "outputs": [
    {
     "name": "stdout",
     "output_type": "stream",
     "text": [
      "Avg number of cycles rented on workingday 193.01187263896384\n",
      "Avg number of cycles rented on non working day 188.50662061024755\n",
      "p value : 0.22644804226361348\n",
      "Fail to reject HO\n"
     ]
    }
   ],
   "source": [
    "#Ho: Working day has no effect on electric cycles rented\n",
    "\n",
    "#Ha: Working day impacts electric cycles rented\n",
    "\n",
    "workingday=df[df['workingday']==1]['count'].values\n",
    "non_workingday=df[df['workingday']==0]['count'].values\n",
    "\n",
    "print(\"Avg number of cycles rented on workingday\",np.mean(workingday))\n",
    "print(\"Avg number of cycles rented on non working day\",np.mean(non_workingday))\n",
    "\n",
    "test_stat,p_value=ttest_ind(workingday,non_workingday)\n",
    "print(\"p value :\",p_value)\n",
    "if p_value<0.05:\n",
    "  print(\"Reject HO \")  \n",
    "else:\n",
    "  print(\"Fail to reject HO\")"
   ]
  },
  {
   "cell_type": "markdown",
   "metadata": {
    "id": "j4_qI_nqAShK"
   },
   "source": [
    "Since p value is greater than alpha, We **fail to reject null hypothesis**. This means that **working day has no significant effect on number of cycles rented**."
   ]
  },
  {
   "cell_type": "markdown",
   "metadata": {
    "id": "HU4uFSBOAvAC"
   },
   "source": [
    "### 2- ANNOVA to check if No. of cycles rented is similar or different in different -\n",
    "\n",
    "1. weather\n",
    "\n",
    "2. season\n",
    "\n",
    "\n",
    "\n",
    "- 1. Lets analyse weather impact first -\n",
    "\n",
    "Ho: Weather has no effect on electric cycles rented\n",
    "\n",
    "Ha: Weather impacts electric cycles rented\n",
    "\n",
    "Alpha: 0.05\n",
    "\n",
    "Its intuitive to use ANOVA as the number of weather category is more than 2 , but lets see if the assumptions of data normality are satisfied-"
   ]
  },
  {
   "cell_type": "code",
   "execution_count": 18,
   "metadata": {
    "colab": {
     "base_uri": "https://localhost:8080/"
    },
    "id": "XkNlKWBqAMPU",
    "outputId": "383205d0-dc2e-4b92-8ed7-8bf4cbad10b7"
   },
   "outputs": [
    {
     "data": {
      "text/plain": [
       "array([1, 2, 3, 4], dtype=object)"
      ]
     },
     "execution_count": 18,
     "metadata": {},
     "output_type": "execute_result"
    }
   ],
   "source": [
    "df['weather'].unique()"
   ]
  },
  {
   "cell_type": "code",
   "execution_count": 19,
   "metadata": {
    "id": "s0tT6w_xBV_r"
   },
   "outputs": [],
   "source": [
    "clear=df[df['weather']==1]['count'].values\n",
    "misty=df[df['weather']==2]['count'].values\n",
    "snowy=df[df['weather']==3]['count'].values\n",
    "rainy=df[df['weather']==4]['count'].values\n"
   ]
  },
  {
   "cell_type": "code",
   "execution_count": 20,
   "metadata": {
    "colab": {
     "base_uri": "https://localhost:8080/",
     "height": 302
    },
    "id": "Ec9STN-e6WTM",
    "outputId": "89be7836-9b38-4b38-a3ca-33a41184a929"
   },
   "outputs": [
    {
     "name": "stderr",
     "output_type": "stream",
     "text": [
      "<ipython-input-20-3e1dea2a1529>:4: UserWarning: Dataset has 0 variance; skipping density estimate. Pass `warn_singular=False` to disable this warning.\n",
      "  sns.kdeplot(rainy)\n"
     ]
    },
    {
     "data": {
      "image/png": "[encoded data removed]",
      "text/plain": [
       "<Figure size 432x288 with 1 Axes>"
      ]
     },
     "metadata": {
      "needs_background": "light"
     },
     "output_type": "display_data"
    }
   ],
   "source": [
    "sns.kdeplot(clear)\n",
    "sns.kdeplot(misty)\n",
    "sns.kdeplot(snowy)\n",
    "sns.kdeplot(rainy)\n",
    "plt.show()"
   ]
  },
  {
   "cell_type": "code",
   "execution_count": 21,
   "metadata": {
    "colab": {
     "base_uri": "https://localhost:8080/",
     "height": 803
    },
    "id": "OoOcRgWo6_wf",
    "outputId": "83c28e45-3c2f-4136-bd24-8ed6ec750f26"
   },
   "outputs": [
    {
     "data": {
      "image/png": "[encoded data removed]",
      "text/plain": [
       "<Figure size 432x288 with 1 Axes>"
      ]
     },
     "metadata": {
      "needs_background": "light"
     },
     "output_type": "display_data"
    },
    {
     "data": {
      "image/png": "[encoded data removed]",
      "text/plain": [
       "<Figure size 432x288 with 1 Axes>"
      ]
     },
     "metadata": {
      "needs_background": "light"
     },
     "output_type": "display_data"
    },
    {
     "data": {
      "image/png": "[encoded data removed]",
      "text/plain": [
       "<Figure size 432x288 with 1 Axes>"
      ]
     },
     "metadata": {
      "needs_background": "light"
     },
     "output_type": "display_data"
    }
   ],
   "source": [
    "import statsmodels.api as sm\n",
    "sm.qqplot(clear,line='s')\n",
    "sm.qqplot(misty,line='s')\n",
    "sm.qqplot(snowy,line='s')\n",
    "plt.show()"
   ]
  },
  {
   "cell_type": "code",
   "execution_count": 22,
   "metadata": {
    "colab": {
     "base_uri": "https://localhost:8080/"
    },
    "id": "L4EBE6KxAXTZ",
    "outputId": "e6f1a625-2b04-4bce-fcb2-f72f6e40e0c3"
   },
   "outputs": [
    {
     "name": "stdout",
     "output_type": "stream",
     "text": [
      "6.261653879846563e-07\n",
      "Reject HO, Data is not gaussian\n"
     ]
    }
   ],
   "source": [
    "# SHAPIRO TEST FOR NORMALITY-\n",
    "\n",
    "# H0: Data is gaussian\n",
    "# Ha: Data is not gaussian\n",
    "\n",
    "test_stat,p_value=shapiro(df[df['weather']==1]['count'].sample(100))\n",
    "print(p_value)\n",
    "if p_value<0.05:\n",
    "  print(\"Reject HO, Data is not gaussian\")\n",
    "else:\n",
    "  print(\"Fail to reject HO, Data is gaussian\")"
   ]
  },
  {
   "cell_type": "code",
   "execution_count": 23,
   "metadata": {
    "colab": {
     "base_uri": "https://localhost:8080/"
    },
    "id": "18flKqs3A1h8",
    "outputId": "348a085a-d591-4d39-f61d-34e4fbe69a34"
   },
   "outputs": [
    {
     "name": "stdout",
     "output_type": "stream",
     "text": [
      "0.0030449195987478058\n",
      "Reject HO, Data is not gaussian\n"
     ]
    }
   ],
   "source": [
    "# KS TEST FOR NORMALITY-\n",
    "\n",
    "# H0: Data is gaussian\n",
    "# Ha: Data is not gaussian\n",
    "\n",
    "subset=df[df['weather']==1]['count'].sample(100)\n",
    "\n",
    "mu= subset.mean()\n",
    "sigma= subset.std()\n",
    "\n",
    "test_stat, p_value = kstest(\n",
    "    subset,\n",
    "    norm.cdf,\n",
    "    args=(mu,sigma)\n",
    "    )\n",
    "print(p_value)\n",
    "if p_value<0.05:\n",
    "  print(\"Reject HO, Data is not gaussian\")\n",
    "else:\n",
    "  print(\"Fail to reject HO, Data is gaussian\")"
   ]
  },
  {
   "cell_type": "markdown",
   "metadata": {
    "id": "baZyAdxhBc3w"
   },
   "source": [
    "From QQ Plots, KS Test, Shapiro test it is clear that the data is not normal.\n",
    "\n",
    "Let us check for equal variance in each group- Levens test"
   ]
  },
  {
   "cell_type": "code",
   "execution_count": 24,
   "metadata": {
    "colab": {
     "base_uri": "https://localhost:8080/",
     "height": 297
    },
    "id": "TCtEAEdKBcnX",
    "outputId": "408e4cd3-bbd7-44f1-d2bc-05611abcd1e8"
   },
   "outputs": [
    {
     "data": {
      "text/plain": [
       "<Axes: xlabel='count', ylabel='Count'>"
      ]
     },
     "execution_count": 24,
     "metadata": {},
     "output_type": "execute_result"
    },
    {
     "data": {
      "image/png": "[encoded data removed]",
      "text/plain": [
       "<Figure size 432x288 with 1 Axes>"
      ]
     },
     "metadata": {
      "needs_background": "light"
     },
     "output_type": "display_data"
    }
   ],
   "source": [
    "sns.histplot(data=df,x=df['count'], hue='weather')"
   ]
  },
  {
   "cell_type": "code",
   "execution_count": 25,
   "metadata": {
    "colab": {
     "base_uri": "https://localhost:8080/"
    },
    "id": "-QSQUKIZCLeW",
    "outputId": "239f7c62-e9b4-4752-f712-44ae4d711061"
   },
   "outputs": [
    {
     "name": "stdout",
     "output_type": "stream",
     "text": [
      "3.49541909725777e-10\n",
      "Reject HO implies variance is different\n"
     ]
    }
   ],
   "source": [
    "# LEVENE TEST TO CHECK EQUAL VARIANCE\n",
    "\n",
    "# H0: All weathers have same variance (high p-value)\n",
    "# Ha: Different variance (low p value)\n",
    "\n",
    "test_stat,p_value=levene(clear,misty)\n",
    "print(p_value)\n",
    "if p_value<0.05:\n",
    "  print(\"Reject HO implies variance is different\")\n",
    "else:\n",
    "  print(\"Fail to reject HO\")"
   ]
  },
  {
   "cell_type": "markdown",
   "metadata": {
    "id": "I1J_ato27ev2"
   },
   "source": [
    "From QQ Plots, KS Test, Shapiro test it is clear that the data is not normal.\n",
    "\n",
    "From Levenes test , it is clear that the assumptions of equal variance also dont hold true.\n",
    "\n",
    "So the assumptions of ANOVA are not met.\n",
    "\n",
    "\n",
    "**kruskal test** should be applied but since the question asks to implement ANOVA we will implement both the test -\n",
    "\n",
    " "
   ]
  },
  {
   "cell_type": "code",
   "execution_count": 26,
   "metadata": {
    "colab": {
     "base_uri": "https://localhost:8080/"
    },
    "id": "sc2YftxG7ecQ",
    "outputId": "6ba5e083-0e49-49e8-edd6-2900c4e86d05"
   },
   "outputs": [
    {
     "name": "stdout",
     "output_type": "stream",
     "text": [
      "3.501611300708679e-44\n",
      "Reject HO \n"
     ]
    }
   ],
   "source": [
    "# KRUSKAL WALLIS TEST-\n",
    "\n",
    "#Ho: Weather has no effect on electric cycles rented\n",
    "\n",
    "#Ha: Weather impacts electric cycles rented\n",
    "\n",
    "f_stat,p_val=kruskal(clear,misty,snowy,rainy)\n",
    "print(p_val)\n",
    "if p_val<0.05:\n",
    "  print(\"Reject HO \")  \n",
    "else:\n",
    "  print(\"Fail to reject HO\")"
   ]
  },
  {
   "cell_type": "code",
   "execution_count": 27,
   "metadata": {
    "colab": {
     "base_uri": "https://localhost:8080/"
    },
    "id": "3tVk0o-z8c8N",
    "outputId": "2b619a6d-f313-4800-d901-278803523fa2"
   },
   "outputs": [
    {
     "name": "stdout",
     "output_type": "stream",
     "text": [
      "5.482069475935669e-42\n",
      "Reject HO \n"
     ]
    }
   ],
   "source": [
    "# ANOVA TEST-\n",
    "\n",
    "#Ho: Weather has no effect on electric cycles rented\n",
    "\n",
    "#Ha: Weather impacts electric cycles rented\n",
    "\n",
    "f_stat,p_val=f_oneway(clear,misty,snowy,rainy)\n",
    "print(p_val)\n",
    "if p_val<0.05:\n",
    "  print(\"Reject HO \")  \n",
    "else:\n",
    "  print(\"Fail to reject HO\")"
   ]
  },
  {
   "cell_type": "markdown",
   "metadata": {
    "id": "-myf-sGRCdxq"
   },
   "source": [
    "Since p value is less than alpha, We **reject null hypothesis**. \n",
    "\n",
    "This means that **weather has statistically significant effect on number of cycles rented**.\n",
    "\n",
    "- 2. Now lets analyse the impact of seasons on electric cycle rented- "
   ]
  },
  {
   "cell_type": "code",
   "execution_count": 28,
   "metadata": {
    "colab": {
     "base_uri": "https://localhost:8080/"
    },
    "id": "O7WwqwSaCNAh",
    "outputId": "9d4001f0-5c34-471a-b588-0db3917bf648"
   },
   "outputs": [
    {
     "data": {
      "text/plain": [
       "array([1, 2, 3, 4], dtype=object)"
      ]
     },
     "execution_count": 28,
     "metadata": {},
     "output_type": "execute_result"
    }
   ],
   "source": [
    "df['season'].unique()"
   ]
  },
  {
   "cell_type": "code",
   "execution_count": 29,
   "metadata": {
    "id": "emNAyyUy9Bb3"
   },
   "outputs": [],
   "source": [
    "spring=df[df['season']==1]['count'].values\n",
    "summer=df[df['season']==2]['count'].values\n",
    "fall=df[df['season']==3]['count'].values\n",
    "winter=df[df['season']==4]['count'].values"
   ]
  },
  {
   "cell_type": "code",
   "execution_count": 30,
   "metadata": {
    "colab": {
     "base_uri": "https://localhost:8080/",
     "height": 265
    },
    "id": "IPlv8qbI89uV",
    "outputId": "57ee091d-88f2-458c-d889-7cecec548f91"
   },
   "outputs": [
    {
     "data": {
      "image/png": "[encoded data removed]",
      "text/plain": [
       "<Figure size 432x288 with 1 Axes>"
      ]
     },
     "metadata": {
      "needs_background": "light"
     },
     "output_type": "display_data"
    }
   ],
   "source": [
    "sns.kdeplot(spring)\n",
    "sns.kdeplot(summer)\n",
    "sns.kdeplot(fall)\n",
    "sns.kdeplot(winter)\n",
    "plt.show()"
   ]
  },
  {
   "cell_type": "code",
   "execution_count": 31,
   "metadata": {
    "colab": {
     "base_uri": "https://localhost:8080/",
     "height": 1000
    },
    "id": "XEO23GeN9LCN",
    "outputId": "b5ab3222-8583-44c4-b059-b715b4b9af71"
   },
   "outputs": [
    {
     "data": {
      "image/png": "[encoded data removed]",
      "text/plain": [
       "<Figure size 432x288 with 1 Axes>"
      ]
     },
     "metadata": {
      "needs_background": "light"
     },
     "output_type": "display_data"
    },
    {
     "data": {
      "image/png": "[encoded data removed]",
      "text/plain": [
       "<Figure size 432x288 with 1 Axes>"
      ]
     },
     "metadata": {
      "needs_background": "light"
     },
     "output_type": "display_data"
    },
    {
     "data": {
      "image/png": "[encoded data removed]",
      "text/plain": [
       "<Figure size 432x288 with 1 Axes>"
      ]
     },
     "metadata": {
      "needs_background": "light"
     },
     "output_type": "display_data"
    },
    {
     "data": {
      "image/png": "[encoded data removed]",
      "text/plain": [
       "<Figure size 432x288 with 1 Axes>"
      ]
     },
     "metadata": {
      "needs_background": "light"
     },
     "output_type": "display_data"
    }
   ],
   "source": [
    "import statsmodels.api as sm\n",
    "sm.qqplot(spring,line='s')\n",
    "sm.qqplot(summer,line='s')\n",
    "sm.qqplot(fall,line='s')\n",
    "sm.qqplot(winter,line='s')\n",
    "plt.show()"
   ]
  },
  {
   "cell_type": "markdown",
   "metadata": {
    "id": "VCz5jmAH9Uyy"
   },
   "source": [
    "The data is not normal , kruskal test should be applied but since the question asks to implement ANOVA we will implement both the test -"
   ]
  },
  {
   "cell_type": "code",
   "execution_count": 32,
   "metadata": {
    "colab": {
     "base_uri": "https://localhost:8080/"
    },
    "id": "w0tYabEA9Y_l",
    "outputId": "80f9e5c1-66c2-488b-f83f-29b25b38a1c5"
   },
   "outputs": [
    {
     "name": "stdout",
     "output_type": "stream",
     "text": [
      "2.479008372608633e-151\n",
      "Reject HO \n"
     ]
    }
   ],
   "source": [
    "# KRUSKAL TEST - \n",
    "\n",
    "#Ho: season has no effect on electric cycles rented\n",
    "\n",
    "#Ha: season impacts electric cycles rented\n",
    "\n",
    "\n",
    "f_stat,p_val=kruskal(spring,summer,fall,winter)\n",
    "print(p_val)\n",
    "if p_val<0.05:\n",
    "  print(\"Reject HO \")  \n",
    "else:\n",
    "  print(\"Fail to reject HO\")"
   ]
  },
  {
   "cell_type": "code",
   "execution_count": 33,
   "metadata": {
    "colab": {
     "base_uri": "https://localhost:8080/"
    },
    "id": "yLeX9MDECY7e",
    "outputId": "828a6365-c942-46bf-ade3-ad3fe690a4b6"
   },
   "outputs": [
    {
     "name": "stdout",
     "output_type": "stream",
     "text": [
      "6.164843386499654e-149\n",
      "Reject HO \n"
     ]
    }
   ],
   "source": [
    "# ANOVA TEST - \n",
    "\n",
    "#Ho: season has no effect on electric cycles rented\n",
    "\n",
    "#Ha: season impacts electric cycles rented\n",
    "\n",
    "\n",
    "f_stat,p_val=f_oneway(spring,summer,fall,winter)\n",
    "print(p_val)\n",
    "if p_val<0.05:\n",
    "  print(\"Reject HO \")  \n",
    "else:\n",
    "  print(\"Fail to reject HO\")"
   ]
  },
  {
   "cell_type": "markdown",
   "metadata": {
    "id": "B4TfIZtxDHxo"
   },
   "source": [
    "Since p value is less than alpha, We  **reject null hypothesis**. This means that **season has significant effect on number of cycles rented**.\n",
    "\n",
    "\n",
    "\n",
    "\n",
    "\n",
    "### Chi-square test to check if Weather is dependent on the season -\n",
    "\n",
    "Null Hypothesis (H0) :- Weather is independent of Season.\n",
    "\n",
    "Alternate Hypothesis (H1) :- Weather is dependent of Season.\n",
    "\n",
    "Significance Level (Alpha) :- 0.05\n",
    "\n",
    "Test :- Chi-Square Test  (between two categorical variables)\n",
    " \n"
   ]
  },
  {
   "cell_type": "code",
   "execution_count": 34,
   "metadata": {
    "colab": {
     "base_uri": "https://localhost:8080/",
     "height": 206
    },
    "id": "kd0LNHi2Ctbm",
    "outputId": "4aa17467-c4cb-42d0-d3ba-a4a71c9d7f45"
   },
   "outputs": [
    {
     "data": {
      "text/html": [
       "\n",
       "  <div id=\"df-16f7992c-9276-4f55-9da8-74dd1c39d0b3\">\n",
       "    <div class=\"colab-df-container\">\n",
       "      <div>\n",
       "<style scoped>\n",
       "    .dataframe tbody tr th:only-of-type {\n",
       "        vertical-align: middle;\n",
       "    }\n",
       "\n",
       "    .dataframe tbody tr th {\n",
       "        vertical-align: top;\n",
       "    }\n",
       "\n",
       "    .dataframe thead th {\n",
       "        text-align: right;\n",
       "    }\n",
       "</style>\n",
       "<table border=\"1\" class=\"dataframe\">\n",
       "  <thead>\n",
       "    <tr style=\"text-align: right;\">\n",
       "      <th>weather</th>\n",
       "      <th>1</th>\n",
       "      <th>2</th>\n",
       "      <th>3</th>\n",
       "      <th>4</th>\n",
       "    </tr>\n",
       "    <tr>\n",
       "      <th>season</th>\n",
       "      <th></th>\n",
       "      <th></th>\n",
       "      <th></th>\n",
       "      <th></th>\n",
       "    </tr>\n",
       "  </thead>\n",
       "  <tbody>\n",
       "    <tr>\n",
       "      <th>1</th>\n",
       "      <td>1759</td>\n",
       "      <td>715</td>\n",
       "      <td>211</td>\n",
       "      <td>1</td>\n",
       "    </tr>\n",
       "    <tr>\n",
       "      <th>2</th>\n",
       "      <td>1801</td>\n",
       "      <td>708</td>\n",
       "      <td>224</td>\n",
       "      <td>0</td>\n",
       "    </tr>\n",
       "    <tr>\n",
       "      <th>3</th>\n",
       "      <td>1930</td>\n",
       "      <td>604</td>\n",
       "      <td>199</td>\n",
       "      <td>0</td>\n",
       "    </tr>\n",
       "    <tr>\n",
       "      <th>4</th>\n",
       "      <td>1702</td>\n",
       "      <td>807</td>\n",
       "      <td>225</td>\n",
       "      <td>0</td>\n",
       "    </tr>\n",
       "  </tbody>\n",
       "</table>\n",
       "</div>\n",
       "      <button class=\"colab-df-convert\" onclick=\"convertToInteractive('df-16f7992c-9276-4f55-9da8-74dd1c39d0b3')\"\n",
       "              title=\"Convert this dataframe to an interactive table.\"\n",
       "              style=\"display:none;\">\n",
       "        \n",
       "  <svg xmlns=\"http://www.w3.org/2000/svg\" height=\"24px\"viewBox=\"0 0 24 24\"\n",
       "       width=\"24px\">\n",
       "    <path d=\"M0 0h24v24H0V0z\" fill=\"none\"/>\n",
       "    <path d=\"M18.56 5.44l.94 2.06.94-2.06 2.06-.94-2.06-.94-.94-2.06-.94 2.06-2.06.94zm-11 1L8.5 8.5l.94-2.06 2.06-.94-2.06-.94L8.5 2.5l-.94 2.06-2.06.94zm10 10l.94 2.06.94-2.06 2.06-.94-2.06-.94-.94-2.06-.94 2.06-2.06.94z\"/><path d=\"M17.41 7.96l-1.37-1.37c-.4-.4-.92-.59-1.43-.59-.52 0-1.04.2-1.43.59L10.3 9.45l-7.72 7.72c-.78.78-.78 2.05 0 2.83L4 21.41c.39.39.9.59 1.41.59.51 0 1.02-.2 1.41-.59l7.78-7.78 2.81-2.81c.8-.78.8-2.07 0-2.86zM5.41 20L4 18.59l7.72-7.72 1.47 1.35L5.41 20z\"/>\n",
       "  </svg>\n",
       "      </button>\n",
       "      \n",
       "  <style>\n",
       "    .colab-df-container {\n",
       "      display:flex;\n",
       "      flex-wrap:wrap;\n",
       "      gap: 12px;\n",
       "    }\n",
       "\n",
       "    .colab-df-convert {\n",
       "      background-color: #E8F0FE;\n",
       "      border: none;\n",
       "      border-radius: 50%;\n",
       "      cursor: pointer;\n",
       "      display: none;\n",
       "      fill: #1967D2;\n",
       "      height: 32px;\n",
       "      padding: 0 0 0 0;\n",
       "      width: 32px;\n",
       "    }\n",
       "\n",
       "    .colab-df-convert:hover {\n",
       "      background-color: #E2EBFA;\n",
       "      box-shadow: 0px 1px 2px rgba(60, 64, 67, 0.3), 0px 1px 3px 1px rgba(60, 64, 67, 0.15);\n",
       "      fill: #174EA6;\n",
       "    }\n",
       "\n",
       "    [theme=dark] .colab-df-convert {\n",
       "      background-color: #3B4455;\n",
       "      fill: #D2E3FC;\n",
       "    }\n",
       "\n",
       "    [theme=dark] .colab-df-convert:hover {\n",
       "      background-color: #434B5C;\n",
       "      box-shadow: 0px 1px 3px 1px rgba(0, 0, 0, 0.15);\n",
       "      filter: drop-shadow(0px 1px 2px rgba(0, 0, 0, 0.3));\n",
       "      fill: #FFFFFF;\n",
       "    }\n",
       "  </style>\n",
       "\n",
       "      <script>\n",
       "        const buttonEl =\n",
       "          document.querySelector('#df-16f7992c-9276-4f55-9da8-74dd1c39d0b3 button.colab-df-convert');\n",
       "        buttonEl.style.display =\n",
       "          google.colab.kernel.accessAllowed ? 'block' : 'none';\n",
       "\n",
       "        async function convertToInteractive(key) {\n",
       "          const element = document.querySelector('#df-16f7992c-9276-4f55-9da8-74dd1c39d0b3');\n",
       "          const dataTable =\n",
       "            await google.colab.kernel.invokeFunction('convertToInteractive',\n",
       "                                                     [key], {});\n",
       "          if (!dataTable) return;\n",
       "\n",
       "          const docLinkHtml = 'Like what you see? Visit the ' +\n",
       "            '<a target=\"_blank\" href=https://colab.research.google.com/notebooks/data_table.ipynb>data table notebook</a>'\n",
       "            + ' to learn more about interactive tables.';\n",
       "          element.innerHTML = '';\n",
       "          dataTable['output_type'] = 'display_data';\n",
       "          await google.colab.output.renderOutput(dataTable, element);\n",
       "          const docLink = document.createElement('div');\n",
       "          docLink.innerHTML = docLinkHtml;\n",
       "          element.appendChild(docLink);\n",
       "        }\n",
       "      </script>\n",
       "    </div>\n",
       "  </div>\n",
       "  "
      ],
      "text/plain": [
       "weather     1    2    3  4\n",
       "season                    \n",
       "1        1759  715  211  1\n",
       "2        1801  708  224  0\n",
       "3        1930  604  199  0\n",
       "4        1702  807  225  0"
      ]
     },
     "execution_count": 34,
     "metadata": {},
     "output_type": "execute_result"
    }
   ],
   "source": [
    "weather_season = pd.crosstab(df['season'], df['weather'])\n",
    "weather_season"
   ]
  },
  {
   "cell_type": "code",
   "execution_count": 35,
   "metadata": {
    "colab": {
     "base_uri": "https://localhost:8080/"
    },
    "id": "FXxpiFvgDkdP",
    "outputId": "79bc4d45-644b-414c-b7db-eea6b9dc14bf"
   },
   "outputs": [
    {
     "name": "stdout",
     "output_type": "stream",
     "text": [
      "1.549925073686492e-07\n",
      "reject HO\n"
     ]
    }
   ],
   "source": [
    "test_stat, p_value, df, exp_values=chi2_contingency(weather_season)\n",
    "# print(test_stat)\n",
    "print(p_value)\n",
    "# print(df)\n",
    "\n",
    "if p_value < 0.05:\n",
    "  print(\"reject HO\")\n",
    "else:\n",
    "  print(\"fail to reject HO\")"
   ]
  },
  {
   "cell_type": "markdown",
   "metadata": {
    "id": "h_0zU3tID65R"
   },
   "source": [
    "Since p < alpha, we **reject Null hypothesis**, this implies that **weather and season are definitely related**."
   ]
  },
  {
   "cell_type": "markdown",
   "metadata": {
    "id": "BzJoEJAoEH5w"
   },
   "source": [
    "# Insights -\n",
    "\n",
    "- Data looks common as - equal number of days in each season, More working days than holidays, Weather is mostly Clear, Few clouds, partly cloudy.\n",
    "- More number of bikes rented when weather is clear with less clouds\n",
    "\n",
    "- Positive correlation with temperature, People prefer to rent cycle when temperature range 13-27 Celsius.\n",
    "\n",
    "- Negative correlation with humidity, For humdity less than 20, count of rent is very very low.\n",
    "\n",
    "-  Rent count is more when windspeed is less than 20.\n",
    "\n",
    "- A 2 sample t-test reveals that there is not sufficient evidence to prove any significant impact of working and non working days on the bike rented.\n",
    "\n",
    "- ANOVA test confirm that the impact of weather and seasons on the number of bikes rented is statitically significant.\n",
    "\n",
    "\n",
    "- A Chi-2 test on categorcial variables result in statisitcally significant relation between weather and seasons."
   ]
  },
  {
   "cell_type": "markdown",
   "metadata": {
    "id": "6LUeOuJqEMvZ"
   },
   "source": [
    "# Recommendations -\n",
    "\n",
    "- Since casual users are very less, the company should focus on marketing strategy to bring more customers. eg. first time user discounts etc\n",
    "\n",
    "- On non working days Yulu can offer promotional deals on activities like city exploration, some health campaigns etc\n",
    "\n",
    "- In heavy rains as rent count is very low , the company can introduce a bike having shade or protection from  rain."
   ]
  }
 ],
 "metadata": {
  "colab": {
   "provenance": []
  },
  "kernelspec": {
   "display_name": "Python 3",
   "language": "python",
   "name": "python3"
  },
  "language_info": {
   "codemirror_mode": {
    "name": "ipython",
    "version": 3
   },
   "file_extension": ".py",
   "mimetype": "text/x-python",
   "name": "python",
   "nbconvert_exporter": "python",
   "pygments_lexer": "ipython3",
   "version": "3.7.7"
  },
  "toc": {
   "base_numbering": 1,
   "nav_menu": {},
   "number_sections": true,
   "sideBar": true,
   "skip_h1_title": false,
   "title_cell": "Table of Contents",
   "title_sidebar": "Contents",
   "toc_cell": false,
   "toc_position": {},
   "toc_section_display": true,
   "toc_window_display": false
  },
  "varInspector": {
   "cols": {
    "lenName": 16,
    "lenType": 16,
    "lenVar": 40
   },
   "kernels_config": {
    "python": {
     "delete_cmd_postfix": "",
     "delete_cmd_prefix": "del ",
     "library": "var_list.py",
     "varRefreshCmd": "print(var_dic_list())"
    },
    "r": {
     "delete_cmd_postfix": ") ",
     "delete_cmd_prefix": "rm(",
     "library": "var_list.r",
     "varRefreshCmd": "cat(var_dic_list()) "
    }
   },
   "types_to_exclude": [
    "module",
    "function",
    "builtin_function_or_method",
    "instance",
    "_Feature"
   ],
   "window_display": false
  }
 },
 "nbformat": 4,
 "nbformat_minor": 1
}
